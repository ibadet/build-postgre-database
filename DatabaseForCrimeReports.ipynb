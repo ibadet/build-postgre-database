{
 "cells": [
  {
   "cell_type": "markdown",
   "metadata": {
    "collapsed": true
   },
   "source": [
    "### BUILDING A DATABASE FOR CRIME REPORTS IN BOSTON\n",
    "In this project we are going to build database for crimes reported in Boston. \n",
    "* Our database will be named **crimes_db**\n",
    "* There will be a schema named **crimes** in **crimes_db** database.\n",
    "* A table named **boston_crimes** will be created.This table will be loaded with data in boston.csv file.\n",
    "* Two groups, **readonly** and **readwrite** will be created.There groups will be given appropriate privileges.One user for each group will be created.\n",
    "\n",
    "The dataset we will use is available in the file boston.csv"
   ]
  },
  {
   "cell_type": "markdown",
   "metadata": {},
   "source": [
    "### Creating the database and table"
   ]
  },
  {
   "cell_type": "markdown",
   "metadata": {},
   "source": [
    "First, we will create the database and the schema:"
   ]
  },
  {
   "cell_type": "code",
   "execution_count": 1,
   "metadata": {
    "collapsed": false
   },
   "outputs": [],
   "source": [
    "import psycopg2\n",
    "conn=psycopg2.connect(dbname=\"dq\", user=\"dq\")\n",
    "cur=conn.cursor()\n",
    "conn.autocommit=True\n",
    "cur.execute(\"DROP DATABASE crime_db;\")\n",
    "cur.execute(\"CREATE DATABASE crime_db;\")\n",
    "conn.autocommit=False\n",
    "conn.close()\n",
    "conn=psycopg2.connect(dbname=\"crime_db\", user=\"dq\")\n",
    "cur=conn.cursor()\n",
    "cur.execute(\"CREATE SCHEMA crimes;\")"
   ]
  },
  {
   "cell_type": "markdown",
   "metadata": {},
   "source": [
    "Now, we will open the file boston.csv and read the first ten row"
   ]
  },
  {
   "cell_type": "code",
   "execution_count": 2,
   "metadata": {
    "collapsed": false
   },
   "outputs": [
    {
     "name": "stdout",
     "output_type": "stream",
     "text": [
      "incident_number,offense_code,description,date,day_of_the_week,lat,long\n",
      "\n",
      "(0, ['2', '1402', 'VANDALISM', '2018-08-21', 'Tuesday', '42.30682138', '-71.06030035'])\n",
      "(1, ['3', '3410', 'TOWED MOTOR VEHICLE', '2018-09-03', 'Monday', '42.34658879', '-71.07242943'])\n",
      "(2, ['4', '3114', 'INVESTIGATE PROPERTY', '2018-09-03', 'Monday', '42.33418175', '-71.07866441'])\n",
      "(3, ['5', '3114', 'INVESTIGATE PROPERTY', '2018-09-03', 'Monday', '42.27536542', '-71.09036101'])\n",
      "(4, ['6', '3820', 'M/V ACCIDENT INVOLVING PEDESTRIAN - INJURY', '2018-09-03', 'Monday', '42.29019621', '-71.07159012'])\n",
      "(5, ['7', '724', 'AUTO THEFT', '2018-09-03', 'Monday', '42.30607218', '-71.0827326'])\n",
      "(6, ['8', '3301', 'VERBAL DISPUTE', '2018-09-03', 'Monday', '42.32701648', '-71.10555088'])\n",
      "(7, ['9', '301', 'ROBBERY - STREET', '2018-09-03', 'Monday', '42.33152148', '-71.07085307'])\n",
      "(8, ['10', '3301', 'VERBAL DISPUTE', '2018-09-03', 'Monday', '42.29514664', '-71.05860832'])\n",
      "(9, ['11', '3301', 'VERBAL DISPUTE', '2018-09-03', 'Monday', '42.31957856', '-71.04032766'])\n"
     ]
    }
   ],
   "source": [
    "import csv\n",
    "counter=0\n",
    "with open(\"boston.csv\", \"r\") as file:\n",
    "    col_headers=next(file)\n",
    "    reader=csv.reader(file)\n",
    "    first_row=next(reader)\n",
    "    print(col_headers)\n",
    "    #print(first_row)\n",
    "    for row in enumerate(reader):\n",
    "        print(row)\n",
    "        counter += 1\n",
    "        if counter >= 10:\n",
    "            break"
   ]
  },
  {
   "cell_type": "markdown",
   "metadata": {},
   "source": [
    "We will write an auxiliary function to find distinct values in a given column and csv file:"
   ]
  },
  {
   "cell_type": "code",
   "execution_count": 3,
   "metadata": {
    "collapsed": false,
    "scrolled": true
   },
   "outputs": [
    {
     "name": "stdout",
     "output_type": "stream",
     "text": [
      "Number of items at column index 0:298329\n",
      "Number of items at column index 1:219\n",
      "Number of items at column index 2:239\n",
      "Number of items at column index 3:1177\n",
      "Number of items at column index 4:7\n",
      "Number of items at column index 5:18177\n",
      "Number of items at column index 6:18177\n"
     ]
    }
   ],
   "source": [
    "import csv \n",
    "def get_col_set(csv_filename, col_index):\n",
    "    \n",
    "    set_for_col=set()\n",
    "    with open(csv_filename,\"r\") as file:\n",
    "        next(file)\n",
    "        reader=csv.reader(file)\n",
    "        for row in reader:\n",
    "            value=row[col_index]\n",
    "            set_for_col.add(value)\n",
    "    return set_for_col\n",
    "\n",
    "for index in range(7):\n",
    "    set_for_index=get_col_set(\"boston.csv\",index) \n",
    "    print(\"Number of items at column index \" \n",
    "            + str(index) + \":\"\n",
    "            + str(len(set_for_index)))\n",
    "    #for item in set_for_index:\n",
    "          #print(item)\n",
    "    \n",
    "            "
   ]
  },
  {
   "cell_type": "markdown",
   "metadata": {},
   "source": [
    "Now, we will find the maximum length of each text column in our dataset. There are two textual columns,namely, the _ description and _ day_of_the_week. Since we can tell that the longest of the days is _ Wednesday.We need to compute only the description column."
   ]
  },
  {
   "cell_type": "code",
   "execution_count": 4,
   "metadata": {
    "collapsed": false
   },
   "outputs": [
    {
     "name": "stdout",
     "output_type": "stream",
     "text": [
      "incident_number,offense_code,description,date,day_of_the_week,lat,long\n",
      "\n",
      "Max length:58\n"
     ]
    }
   ],
   "source": [
    "print(col_headers)\n",
    "\n",
    "col_values=get_col_set(\"boston.csv\",2)\n",
    "longest=0\n",
    "for item in col_values:\n",
    "    if len(item) > longest:\n",
    "        longest=len(item)\n",
    "print(\"Max length:\" + str(longest))"
   ]
  },
  {
   "cell_type": "markdown",
   "metadata": {},
   "source": [
    "We will create a table inside the crimes schema of the crime_db database.Before creating the table we need to decide the column names and types. We dediced the column names and types as below based on the exploration we made in previous steps:\n",
    "\n",
    "* incident_number integer PRIMARY KEY\n",
    "* offense_code integer\n",
    "* offense_description varchar(60)\n",
    "* crime_date date\n",
    "* crime_day enum\n",
    "* latitute decimal\n",
    "* longtitute decimal"
   ]
  },
  {
   "cell_type": "code",
   "execution_count": 5,
   "metadata": {
    "collapsed": false,
    "scrolled": true
   },
   "outputs": [],
   "source": [
    "cur.execute(\" CREATE TYPE enum_days AS ENUM ('Monday', 'Tuesday', 'Wednesday', 'Thursday', 'Friday', 'Saturday', 'Sunday');\")"
   ]
  },
  {
   "cell_type": "code",
   "execution_count": 6,
   "metadata": {
    "collapsed": false,
    "scrolled": false
   },
   "outputs": [],
   "source": [
    "cur.execute(\"CREATE TABLE crimes.boston_crimes (incident_number integer PRIMARY KEY,offense_code integer,offense_description varchar(60),crime_date date,crime_day enum_days, latitute decimal,longtitute decimal)\")"
   ]
  },
  {
   "cell_type": "markdown",
   "metadata": {},
   "source": [
    "### Loading csv to database table"
   ]
  },
  {
   "cell_type": "markdown",
   "metadata": {},
   "source": [
    "We will load the boston.csv file into table boston_crimes"
   ]
  },
  {
   "cell_type": "code",
   "execution_count": 7,
   "metadata": {
    "collapsed": false
   },
   "outputs": [],
   "source": [
    "import csv\n",
    "with open(\"boston.csv\", \"r\") as file:\n",
    "    try:\n",
    "        cur.copy_expert(\"COPY crime_db.crimes.boston_crimes FROM STDIN WITH CSV HEADER;\", file)     \n",
    "    except (Exception, psycopg2.DatabaseError) as error:\n",
    "        print(\"Error: %s\" % error)"
   ]
  },
  {
   "cell_type": "markdown",
   "metadata": {},
   "source": [
    "### Creating the necessary groups and users"
   ]
  },
  {
   "cell_type": "markdown",
   "metadata": {},
   "source": [
    "We will create two groups, _ readonly and _ readwrite but because security is the most important issue in databases, we must be sure that everyone conforms to the least privilege principle."
   ]
  },
  {
   "cell_type": "code",
   "execution_count": 8,
   "metadata": {
    "collapsed": false
   },
   "outputs": [],
   "source": [
    "cur.execute(\"REVOKE ALL ON SCHEMA public FROM public;\")"
   ]
  },
  {
   "cell_type": "code",
   "execution_count": 9,
   "metadata": {
    "collapsed": true
   },
   "outputs": [],
   "source": [
    "cur.execute(\"REVOKE ALL ON DATABASE crime_db FROM public;\")"
   ]
  },
  {
   "cell_type": "code",
   "execution_count": 10,
   "metadata": {
    "collapsed": false
   },
   "outputs": [],
   "source": [
    "cur.execute(\"CREATE GROUP readonly NOLOGIN;\")\n",
    "cur.execute(\"CREATE GROUP readwrite NOLOGIN;\")\n",
    "cur.execute(\"GRANT CONNECT ON DATABASE crime_db TO readonly;\")\n",
    "cur.execute(\"GRANT CONNECT ON DATABASE crime_db TO readwrite;\")\n",
    "cur.execute(\"GRANT USAGE ON SCHEMA crimes TO readonly;\")\n",
    "cur.execute(\"GRANT USAGE ON SCHEMA crimes TO readwrite;\")\n",
    "cur.execute(\"GRANT SELECT ON ALL TABLES IN SCHEMA crimes TO readonly;\")\n",
    "cur.execute(\"GRANT SELECT,INSERT,DELETE,UPDATE ON ALL TABLES IN SCHEMA crimes TO readwrite;\")"
   ]
  },
  {
   "cell_type": "markdown",
   "metadata": {},
   "source": [
    "We will create two users for the groups we just created and add them to the groups they belong to."
   ]
  },
  {
   "cell_type": "code",
   "execution_count": 11,
   "metadata": {
    "collapsed": false
   },
   "outputs": [],
   "source": [
    "cur.execute(\"CREATE USER data_analyst WITH PASSWORD 'secret1';\")\n",
    "cur.execute(\"GRANT readonly TO data_analyst;\")\n",
    "cur.execute(\"CREATE USER data_scientist WITH PASSWORD 'secret2';\")\n",
    "cur.execute(\"GRANT readwrite TO data_scientist;\")"
   ]
  },
  {
   "cell_type": "markdown",
   "metadata": {},
   "source": [
    "### Testing the database\n",
    "\n",
    "Now that our database is ready.We need to be sure everything is created properly.First of all, lets make sure that boston_crimes table is created."
   ]
  },
  {
   "cell_type": "code",
   "execution_count": 12,
   "metadata": {
    "collapsed": false,
    "scrolled": true
   },
   "outputs": [
    {
     "name": "stdout",
     "output_type": "stream",
     "text": [
      "(Column(name='incident_number', type_code=23, display_size=None, internal_size=4, precision=None, scale=None, null_ok=None), Column(name='offense_code', type_code=23, display_size=None, internal_size=4, precision=None, scale=None, null_ok=None), Column(name='offense_description', type_code=1043, display_size=None, internal_size=60, precision=None, scale=None, null_ok=None), Column(name='crime_date', type_code=1082, display_size=None, internal_size=4, precision=None, scale=None, null_ok=None), Column(name='crime_day', type_code=16418, display_size=None, internal_size=4, precision=None, scale=None, null_ok=None), Column(name='latitute', type_code=1700, display_size=None, internal_size=-1, precision=65535, scale=65535, null_ok=None), Column(name='longtitute', type_code=1700, display_size=None, internal_size=-1, precision=65535, scale=65535, null_ok=None))\n"
     ]
    }
   ],
   "source": [
    "cur.execute(\"SELECT * FROM crimes.boston_crimes LIMIT 0;\")\n",
    "print(cur.description)"
   ]
  },
  {
   "cell_type": "markdown",
   "metadata": {},
   "source": [
    "Check if boston.csv is loaded to the boston_crimes table. "
   ]
  },
  {
   "cell_type": "code",
   "execution_count": 13,
   "metadata": {
    "collapsed": false,
    "scrolled": true
   },
   "outputs": [
    {
     "name": "stdout",
     "output_type": "stream",
     "text": [
      "[(1, 619, 'LARCENY ALL OTHERS', datetime.date(2018, 9, 2), 'Sunday', Decimal('42.35779134'), Decimal('-71.13937053')), (2, 1402, 'VANDALISM', datetime.date(2018, 8, 21), 'Tuesday', Decimal('42.30682138'), Decimal('-71.06030035')), (3, 3410, 'TOWED MOTOR VEHICLE', datetime.date(2018, 9, 3), 'Monday', Decimal('42.34658879'), Decimal('-71.07242943')), (4, 3114, 'INVESTIGATE PROPERTY', datetime.date(2018, 9, 3), 'Monday', Decimal('42.33418175'), Decimal('-71.07866441')), (5, 3114, 'INVESTIGATE PROPERTY', datetime.date(2018, 9, 3), 'Monday', Decimal('42.27536542'), Decimal('-71.09036101')), (6, 3820, 'M/V ACCIDENT INVOLVING PEDESTRIAN - INJURY', datetime.date(2018, 9, 3), 'Monday', Decimal('42.29019621'), Decimal('-71.07159012')), (7, 724, 'AUTO THEFT', datetime.date(2018, 9, 3), 'Monday', Decimal('42.30607218'), Decimal('-71.0827326')), (8, 3301, 'VERBAL DISPUTE', datetime.date(2018, 9, 3), 'Monday', Decimal('42.32701648'), Decimal('-71.10555088')), (9, 301, 'ROBBERY - STREET', datetime.date(2018, 9, 3), 'Monday', Decimal('42.33152148'), Decimal('-71.07085307')), (10, 3301, 'VERBAL DISPUTE', datetime.date(2018, 9, 3), 'Monday', Decimal('42.29514664'), Decimal('-71.05860832'))]\n"
     ]
    }
   ],
   "source": [
    "cur.execute(\"SELECT  * FROM crimes.boston_crimes LIMIT 10;\")\n",
    "print(cur.fetchall())"
   ]
  },
  {
   "cell_type": "markdown",
   "metadata": {},
   "source": [
    "Check if the groups have the necessary privilages:"
   ]
  },
  {
   "cell_type": "code",
   "execution_count": 14,
   "metadata": {
    "collapsed": false
   },
   "outputs": [
    {
     "name": "stdout",
     "output_type": "stream",
     "text": [
      "[('readonly', 'SELECT'), ('readwrite', 'INSERT'), ('readwrite', 'SELECT'), ('readwrite', 'UPDATE'), ('readwrite', 'DELETE')]\n"
     ]
    }
   ],
   "source": [
    "cur.execute(\"SELECT grantee, privilege_type FROM information_schema.table_privileges WHERE grantee IN ('readonly','readwrite')\")\n",
    "print(cur.fetchall())"
   ]
  },
  {
   "cell_type": "code",
   "execution_count": 15,
   "metadata": {
    "collapsed": true
   },
   "outputs": [],
   "source": [
    "#commit and close the connection\n",
    "conn.commit()\n",
    "conn.close()"
   ]
  }
 ],
 "metadata": {
  "kernelspec": {
   "display_name": "Python 3",
   "language": "python",
   "name": "python3"
  },
  "language_info": {
   "codemirror_mode": {
    "name": "ipython",
    "version": 3
   },
   "file_extension": ".py",
   "mimetype": "text/x-python",
   "name": "python",
   "nbconvert_exporter": "python",
   "pygments_lexer": "ipython3",
   "version": "3.4.3"
  }
 },
 "nbformat": 4,
 "nbformat_minor": 2
}
